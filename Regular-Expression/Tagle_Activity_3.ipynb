{
 "cells": [
  {
   "cell_type": "code",
   "execution_count": 33,
   "id": "d681d8d3",
   "metadata": {},
   "outputs": [
    {
     "name": "stdout",
     "output_type": "stream",
     "text": [
      "Python include the following:\n",
      "Python is a high-level language intended to be relatively\n",
      "Python is an interpreter and when we are running Python interactively,\n",
      "Python program to count the words than it would be to manually\n",
      "Python takes our perfectly written programs and rejects them as\n",
      "Python is much more like a dog, loving you unconditionally, having a few\n",
      "Python does its best to point right at the line and character where\n",
      "\n",
      "The sum of all numbers is 445833\n",
      "The highest number is 9795\n",
      "The total vowel count is 8361\n",
      "Python word count is 103\n"
     ]
    }
   ],
   "source": [
    "# TAGLE, MARC NEIL V.\n",
    "\n",
    "import re\n",
    "\n",
    "pattern1 = r'^Python'\n",
    "pattern2 = r'[0-9]+'\n",
    "pattern3 = r'[aeiouAEIOU]'\n",
    "pattern4 = r'Python'\n",
    "\n",
    "text = open('regex_sum_42.txt', 'r')\n",
    "\n",
    "for line in text:\n",
    "    line = line.rstrip()\n",
    "    if re.search('^Python', line):\n",
    "        print(line)\n",
    "        \n",
    "with open('regex_sum_42.txt', 'r') as file:\n",
    "    text = file.read()\n",
    "        \n",
    "    # Extract all numbers and display sum of the numbers\n",
    "    numbers = re.findall(pattern2, text)\n",
    "    sum = 0\n",
    "    for num in numbers:\n",
    "        sum += int(num)\n",
    "    print(f\"\\nThe sum of all numbers is {sum}\")\n",
    "\n",
    "    # Find highest number\n",
    "    highest = max(numbers)\n",
    "    print(f\"The highest number is {highest}\")\n",
    "\n",
    "    # Count vowels\n",
    "    vowels = re.findall(pattern3, text)\n",
    "    vowelCount = len(vowels)\n",
    "    print(f\"The total vowel count is {vowelCount}\")\n",
    "\n",
    "    # Count words\n",
    "    words = re.findall(pattern4, text)\n",
    "    wordCount = len(words)\n",
    "    print(f\"Python word count is {wordCount}\")"
   ]
  }
 ],
 "metadata": {
  "kernelspec": {
   "display_name": "Python 3 (ipykernel)",
   "language": "python",
   "name": "python3"
  },
  "language_info": {
   "codemirror_mode": {
    "name": "ipython",
    "version": 3
   },
   "file_extension": ".py",
   "mimetype": "text/x-python",
   "name": "python",
   "nbconvert_exporter": "python",
   "pygments_lexer": "ipython3",
   "version": "3.10.9"
  }
 },
 "nbformat": 4,
 "nbformat_minor": 5
}
